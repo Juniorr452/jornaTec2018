{
 "cells": [
  {
   "cell_type": "markdown",
   "metadata": {},
   "source": [
    "# <font color='red'>Modelo de Classificação - Machine Learning</font>\n",
    "\n",
    "## <font color='blue'>Gabriel Lima Gomes</font>"
   ]
  },
  {
   "cell_type": "markdown",
   "metadata": {},
   "source": [
    "http://scikit-learn.org/stable/modules/naive_bayes.html"
   ]
  },
  {
   "cell_type": "markdown",
   "metadata": {},
   "source": [
    "## Multinomial Naive Bayes - Scikit-Learn"
   ]
  },
  {
   "cell_type": "markdown",
   "metadata": {},
   "source": [
    "O classificador Multinomial Naive Bayes é adequado para classificação com variáveis discretas (por exemplo, contagens de palavras para a classificação de texto). \n",
    "Pode ser utilizada term frequency ou term frequency invert document frenquency.\n",
    "Documentação:"
   ]
  },
  {
   "cell_type": "markdown",
   "metadata": {},
   "source": [
    "http://scikit-learn.org/stable/modules/generated/sklearn.naive_bayes.MultinomialNB.html"
   ]
  },
  {
   "cell_type": "markdown",
   "metadata": {},
   "source": [
    "### Classificador de Textos (emails)"
   ]
  },
  {
   "cell_type": "markdown",
   "metadata": {},
   "source": [
    "http://qwone.com/~jason/20Newsgroups/"
   ]
  },
  {
   "cell_type": "code",
   "execution_count": 1,
   "metadata": {
    "collapsed": true
   },
   "outputs": [],
   "source": [
    "## IMPORTANDO LIBS QUE SERÃO UTILIZADAS\n",
    "import numpy as np\n",
    "import pandas as pd\n",
    "#from pprint import pprint\n",
    "\n",
    "#from sklearn.datasets import fetch_20newsgroups\n",
    "from sklearn.feature_extraction.text import CountVectorizer\n",
    "from sklearn.pipeline import Pipeline\n",
    "from sklearn.naive_bayes import MultinomialNB\n",
    "from sklearn.feature_extraction.text import TfidfTransformer\n",
    "from sklearn.model_selection import GridSearchCV\n",
    "from sklearn import metrics"
   ]
  },
  {
   "cell_type": "code",
   "execution_count": 2,
   "metadata": {
    "collapsed": true
   },
   "outputs": [],
   "source": [
    "## DEFININDO AS CLASSES(RÓTULOS) QUE SERÃO UTILIZADAS\n",
    "# (usando apenas 4 de um total de 20 disponível para que o processo de classificação seja mais rápido)\n",
    "#categories = ['rec.autos', 'soc.religion.christian', 'comp.graphics', 'sci.med']\n",
    "\n",
    "# EXTRAINDO DADOS PARA TREINAMENTO DA FONTE DE ORIGEM\n",
    "#treino = fetch_20newsgroups(subset = 'train', categories = categories, shuffle = True, random_state = 42)\n",
    "\n",
    "#df = pd.DataFrame(data= {'text':treino.data[:],'target': treino.target[:],'target_name': np.array(treino.target_names)[treino.target[:]]})\n",
    "#df.to_csv(\"email_treino.csv\",index=False)"
   ]
  },
  {
   "cell_type": "code",
   "execution_count": 4,
   "metadata": {
    "scrolled": true
   },
   "outputs": [
    {
     "data": {
      "text/plain": [
       "'teste = fetch_20newsgroups(subset = \\'test\\', categories = categories, shuffle = True, random_state = 42)\\n\\ndf = pd.DataFrame(data= {\\'text\\':teste.data[:],\\n                         \\'target\\': teste.target[:],\\n                         \\'target_name\\': np.array(teste.target_names)[teste.target[:]]\\n                        })\\ndf.to_csv(\"email_teste.csv\",index=False)\\n'"
      ]
     },
     "execution_count": 4,
     "metadata": {},
     "output_type": "execute_result"
    }
   ],
   "source": [
    "\"\"\"teste = fetch_20newsgroups(subset = 'test', categories = categories, shuffle = True, random_state = 42)\n",
    "\n",
    "df = pd.DataFrame(data= {'text':teste.data[:],\n",
    "                         'target': teste.target[:],\n",
    "                         'target_name': np.array(teste.target_names)[teste.target[:]]\n",
    "                        })\n",
    "df.to_csv(\"email_teste.csv\",index=False)\n",
    "\"\"\""
   ]
  },
  {
   "cell_type": "code",
   "execution_count": 3,
   "metadata": {
    "collapsed": true
   },
   "outputs": [],
   "source": [
    "## CARREGANDO DADOS DE TREINO DO ARQUIVO CSV\n",
    "treino = pd.read_csv(\"email_treino.csv\")"
   ]
  },
  {
   "cell_type": "code",
   "execution_count": 4,
   "metadata": {},
   "outputs": [
    {
     "data": {
      "text/html": [
       "<div>\n",
       "<style>\n",
       "    .dataframe thead tr:only-child th {\n",
       "        text-align: right;\n",
       "    }\n",
       "\n",
       "    .dataframe thead th {\n",
       "        text-align: left;\n",
       "    }\n",
       "\n",
       "    .dataframe tbody tr th {\n",
       "        vertical-align: top;\n",
       "    }\n",
       "</style>\n",
       "<table border=\"1\" class=\"dataframe\">\n",
       "  <thead>\n",
       "    <tr style=\"text-align: right;\">\n",
       "      <th></th>\n",
       "      <th>target</th>\n",
       "      <th>target_name</th>\n",
       "      <th>text</th>\n",
       "    </tr>\n",
       "  </thead>\n",
       "  <tbody>\n",
       "    <tr>\n",
       "      <th>0</th>\n",
       "      <td>1</td>\n",
       "      <td>rec.autos</td>\n",
       "      <td>From: jimf@centerline.com (Jim Frost)\\r\\nSubje...</td>\n",
       "    </tr>\n",
       "    <tr>\n",
       "      <th>1</th>\n",
       "      <td>1</td>\n",
       "      <td>rec.autos</td>\n",
       "      <td>From: cs173sbw@sdcc5.ucsd.edu (cs173sbw)\\r\\nSu...</td>\n",
       "    </tr>\n",
       "    <tr>\n",
       "      <th>2</th>\n",
       "      <td>1</td>\n",
       "      <td>rec.autos</td>\n",
       "      <td>From: qazi@csd4.csd.uwm.edu (Aamir Hafeez Qazi...</td>\n",
       "    </tr>\n",
       "    <tr>\n",
       "      <th>3</th>\n",
       "      <td>1</td>\n",
       "      <td>rec.autos</td>\n",
       "      <td>From: \"tom neumann\" &lt;tom.neumann@canrem.com&gt;\\r...</td>\n",
       "    </tr>\n",
       "    <tr>\n",
       "      <th>4</th>\n",
       "      <td>3</td>\n",
       "      <td>soc.religion.christian</td>\n",
       "      <td>From: Rick_Granberry@pts.mot.com (Rick Granber...</td>\n",
       "    </tr>\n",
       "  </tbody>\n",
       "</table>\n",
       "</div>"
      ],
      "text/plain": [
       "   target             target_name  \\\n",
       "0       1               rec.autos   \n",
       "1       1               rec.autos   \n",
       "2       1               rec.autos   \n",
       "3       1               rec.autos   \n",
       "4       3  soc.religion.christian   \n",
       "\n",
       "                                                text  \n",
       "0  From: jimf@centerline.com (Jim Frost)\\r\\nSubje...  \n",
       "1  From: cs173sbw@sdcc5.ucsd.edu (cs173sbw)\\r\\nSu...  \n",
       "2  From: qazi@csd4.csd.uwm.edu (Aamir Hafeez Qazi...  \n",
       "3  From: \"tom neumann\" <tom.neumann@canrem.com>\\r...  \n",
       "4  From: Rick_Granberry@pts.mot.com (Rick Granber...  "
      ]
     },
     "execution_count": 4,
     "metadata": {},
     "output_type": "execute_result"
    }
   ],
   "source": [
    "## VISUALIZANDO AS PRIMEIRAS LINHAS DA TABELA\n",
    "treino.head()"
   ]
  },
  {
   "cell_type": "code",
   "execution_count": 5,
   "metadata": {},
   "outputs": [
    {
     "data": {
      "text/plain": [
       "array(['comp.graphics', 'rec.autos', 'sci.med', 'soc.religion.christian'], dtype=object)"
      ]
     },
     "execution_count": 5,
     "metadata": {},
     "output_type": "execute_result"
    }
   ],
   "source": [
    "## EXTRAINDO TARGETS DA BASE DE DADOS (VALORES ÚNICOS)\n",
    "np.unique(treino.target_name)"
   ]
  },
  {
   "cell_type": "markdown",
   "metadata": {},
   "source": [
    "### Bag of Words (Saco de Palavras)"
   ]
  },
  {
   "cell_type": "code",
   "execution_count": 6,
   "metadata": {},
   "outputs": [
    {
     "data": {
      "text/plain": [
       "(2371, 36764)"
      ]
     },
     "execution_count": 6,
     "metadata": {},
     "output_type": "execute_result"
    }
   ],
   "source": [
    "## Tokenizing - cria um objeto com todos os documentos(linhas) e palavras separadas (colunas)\n",
    "count_vect     = CountVectorizer()\n",
    "X_train_counts = count_vect.fit_transform(treino.text)\n",
    "\n",
    "## VERIFICANDO AS DIMENSÕES DO OBJETO(LINHAS x COLUNAS)\n",
    "X_train_counts.shape"
   ]
  },
  {
   "cell_type": "code",
   "execution_count": 7,
   "metadata": {},
   "outputs": [
    {
     "data": {
      "text/plain": [
       "(2371, 36764)"
      ]
     },
     "execution_count": 7,
     "metadata": {},
     "output_type": "execute_result"
    }
   ],
   "source": [
    "## CRIANDO UMA tf-idf - Term Frequency times Inverse Document Frequency\n",
    "tfidf_transformer = TfidfTransformer().fit(X_train_counts)\n",
    "X_train_tfidf = tfidf_transformer.transform(X_train_counts)\n",
    "X_train_tfidf.shape"
   ]
  },
  {
   "cell_type": "code",
   "execution_count": null,
   "metadata": {
    "collapsed": true
   },
   "outputs": [],
   "source": [
    "# Mesmo resultado da célula anterior, mas combinando as funções\n",
    "#tfidf_transformer = TfidfTransformer()\n",
    "#X_train_tfidf = tfidf_transformer.fit_transform(X_train_counts)\n",
    "#X_train_tfidf.shape"
   ]
  },
  {
   "cell_type": "code",
   "execution_count": 8,
   "metadata": {
    "collapsed": true
   },
   "outputs": [],
   "source": [
    "# Criando o modelo Multinomial com os dados de treino criados no tf-idf anteriormente e as classes/rótulos de cada um\n",
    "clf = MultinomialNB().fit(X_train_tfidf, treino.target)"
   ]
  },
  {
   "cell_type": "code",
   "execution_count": 9,
   "metadata": {},
   "outputs": [
    {
     "name": "stdout",
     "output_type": "stream",
     "text": [
      "'God is love' => soc.religion.christian (3) \n",
      "'I use OpenGL on the GPU' => comp.graphics (0) \n",
      "'My car is fast' => rec.autos (1) \n",
      "'doctors and nurses are good in the hospital ' => sci.med (2) \n"
     ]
    }
   ],
   "source": [
    "# Previsões\n",
    "docs_new = ['God is love', 'I use OpenGL on the GPU', 'My car is fast','doctors and nurses are good in the hospital ']\n",
    "X_new_counts = count_vect.transform(docs_new)\n",
    "X_new_tfidf = tfidf_transformer.transform(X_new_counts)\n",
    "\n",
    "predicted = clf.predict(X_new_tfidf)\n",
    "\n",
    "for doc, category in zip(docs_new, predicted):\n",
    "    print('%r => %s (%i) ' % (doc, np.unique(treino.target_name)[category], category) )"
   ]
  },
  {
   "cell_type": "code",
   "execution_count": 10,
   "metadata": {},
   "outputs": [
    {
     "data": {
      "text/plain": [
       "0.9132362254591514"
      ]
     },
     "execution_count": 10,
     "metadata": {},
     "output_type": "execute_result"
    }
   ],
   "source": [
    "## TESTANDO ACURÁCIA DO ALGORITMO DE CLASSIFICAÇÃO\n",
    "teste = pd.read_csv(\"email_teste.csv\")\n",
    "docs_test = teste.text\n",
    "\n",
    "X_new_counts = count_vect.transform(docs_test)\n",
    "X_new_tfidf = tfidf_transformer.transform(X_new_counts)\n",
    "\n",
    "predicted = clf.predict(X_new_tfidf)\n",
    "\n",
    "## MÉDIA DE ACERTOS (classes/rótulos previstos x classes originais)\n",
    "np.mean(predicted == teste.target)\n"
   ]
  },
  {
   "cell_type": "code",
   "execution_count": null,
   "metadata": {
    "collapsed": true
   },
   "outputs": [],
   "source": []
  },
  {
   "cell_type": "markdown",
   "metadata": {},
   "source": [
    "### Fim"
   ]
  }
 ],
 "metadata": {
  "anaconda-cloud": {},
  "kernelspec": {
   "display_name": "Python 3",
   "language": "python",
   "name": "python3"
  },
  "language_info": {
   "codemirror_mode": {
    "name": "ipython",
    "version": 3
   },
   "file_extension": ".py",
   "mimetype": "text/x-python",
   "name": "python",
   "nbconvert_exporter": "python",
   "pygments_lexer": "ipython3",
   "version": "3.6.3"
  }
 },
 "nbformat": 4,
 "nbformat_minor": 1
}
